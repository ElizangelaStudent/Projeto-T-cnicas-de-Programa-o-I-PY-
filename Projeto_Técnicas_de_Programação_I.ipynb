{
  "nbformat": 4,
  "nbformat_minor": 0,
  "metadata": {
    "colab": {
      "provenance": [],
      "mount_file_id": "1h9cMAF4l3gyAIh-iUJ4Z5DsIGeVm1luc",
      "authorship_tag": "ABX9TyPdhjRmGWhdNYw9XYQaTSG9",
      "include_colab_link": true
    },
    "kernelspec": {
      "name": "python3",
      "display_name": "Python 3"
    },
    "language_info": {
      "name": "python"
    }
  },
  "cells": [
    {
      "cell_type": "markdown",
      "metadata": {
        "id": "view-in-github",
        "colab_type": "text"
      },
      "source": [
        "<a href=\"https://colab.research.google.com/github/ElizangelaStudent/Projeto-T-cnicas-de-Programa-o-I-PY-/blob/main/Projeto_T%C3%A9cnicas_de_Programa%C3%A7%C3%A3o_I.ipynb\" target=\"_parent\"><img src=\"https://colab.research.google.com/assets/colab-badge.svg\" alt=\"Open In Colab\"/></a>"
      ]
    },
    {
      "cell_type": "markdown",
      "source": [
        "##**Perguntas a serem respondidas a partir dos dados.**"
      ],
      "metadata": {
        "id": "OacMJ-mJJxmR"
      }
    },
    {
      "cell_type": "code",
      "source": [
        "\n",
        "import pandas as pd\n",
        "import numpy as np\n",
        "import matplotlib.pyplot as plt\n",
        "import seaborn as sb\n",
        "\n",
        "business = pd.read_csv('/content/drive/MyDrive/udemy-courses-business-courses.csv')\n",
        "design = pd.read_csv('/content/drive/MyDrive/udemy-courses-design-courses.csv')\n",
        "music = pd.read_csv('/content/drive/MyDrive/udemy-courses-music-courses.csv')\n",
        "web = pd.read_csv('/content/drive/MyDrive/udemy-courses-web-development.csv')\n",
        "\n",
        "geral = pd.concat([business, design, music, web])"
      ],
      "metadata": {
        "id": "_qeScRmwnxPr"
      },
      "execution_count": null,
      "outputs": []
    },
    {
      "cell_type": "markdown",
      "source": [
        "###**1. Quantos cursos estão disponíveis na plataforma?**"
      ],
      "metadata": {
        "id": "DMXNpzPeJ4yw"
      }
    },
    {
      "cell_type": "code",
      "source": [
        "total_cursos = geral['course_id'].unique()\n",
        "total_real = len(total_cursos)\n",
        "cursos_business = business['course_id'].unique()\n",
        "total_business = len(cursos_business)\n",
        "cursos_web = web['course_id'].unique()\n",
        "total_web = len(cursos_web)\n",
        "cursos_design = design['course_id'].unique()\n",
        "total_design = len(cursos_design)\n",
        "cursos_music = music['course_id'].unique()\n",
        "total_music = len(cursos_music)\n",
        "\n",
        "cursos = ['Business', 'Web', 'Design', 'Music', 'Total de Cursos']\n",
        "qnt_cursos = [total_business, total_web, total_design, total_music, total_real]\n",
        "\n",
        "plt.plot(cursos, qnt_cursos, 'ro', linestyle='--')\n",
        "plt.show()\n",
        "\n",
        "print(f'Nossa plataforma disponibiliza total de {total_real} cursos')"
      ],
      "metadata": {
        "colab": {
          "base_uri": "https://localhost:8080/",
          "height": 283
        },
        "id": "mEzmQvGEoASW",
        "outputId": "82d4a923-0bbb-40ab-97aa-d762274c2cbf"
      },
      "execution_count": null,
      "outputs": [
        {
          "output_type": "display_data",
          "data": {
            "text/plain": [
              "<Figure size 432x288 with 1 Axes>"
            ],
            "image/png": "[encoded data removed]"
          },
          "metadata": {
            "needs_background": "light"
          }
        },
        {
          "output_type": "stream",
          "name": "stdout",
          "text": [
            "Nossa plataforma disponibiliza total de 3673 cursos\n"
          ]
        }
      ]
    },
    {
      "cell_type": "markdown",
      "source": [
        "###**2. Quais e quantos são os cursos que abordam o assunto: JavaScript?**"
      ],
      "metadata": {
        "id": "U3cmFzK4J7rO"
      }
    },
    {
      "cell_type": "code",
      "source": [
        "geral['course_title'] = geral['course_title'].str.lower()\n",
        "js = geral[geral['course_title'].str.contains('javascript', na= False)]\n",
        "qnt_js = len(js)\n",
        "js_cursos = js[['course_title']]\n",
        "total_real = len(total_cursos)\n",
        "\n",
        "x = ['Total de cursos', 'Cursos JavaScript']\n",
        "y = [total_real, qnt_js]\n",
        "\n",
        "plt.bar(x, y)\n",
        "plt.show()\n",
        "\n",
        "print(f'''Nossa plataforma disponibiliza de {total_real} cursos,\n",
        "sendo {qnt_js} cursos com JavaScript. Nossa lista de cursos disponíveis:\n",
        "{js_cursos}.''')"
      ],
      "metadata": {
        "colab": {
          "base_uri": "https://localhost:8080/",
          "height": 557
        },
        "id": "G7bhoMv0oFDQ",
        "outputId": "87fed3d2-dbb6-4b1e-a7a8-198945f7aeef"
      },
      "execution_count": null,
      "outputs": [
        {
          "output_type": "display_data",
          "data": {
            "text/plain": [
              "<Figure size 432x288 with 1 Axes>"
            ],
            "image/png": "[encoded data removed]"
          },
          "metadata": {
            "needs_background": "light"
          }
        },
        {
          "output_type": "stream",
          "name": "stdout",
          "text": [
            "Nossa plataforma disponibiliza de 3673 cursos,\n",
            "sendo 137 cursos com JavaScript. Nossa lista de cursos disponíveis:\n",
            "                                           course_title\n",
            "6                learn javascript & jquery from scratch\n",
            "8             javascript: understanding the weird parts\n",
            "23    learning dynamic website design - php mysql an...\n",
            "24                                javascript essentials\n",
            "36    the complete javascript course for web develop...\n",
            "...                                                 ...\n",
            "1126                let's javascript! code a calculator\n",
            "1136  advance javascript for coders: learn oop in ja...\n",
            "1139  17 complete javascript projects explained step...\n",
            "1156  popular javascript framework:learn the languag...\n",
            "1162  the complete javascript, html and css tutorial...\n",
            "\n",
            "[137 rows x 1 columns].\n"
          ]
        }
      ]
    },
    {
      "cell_type": "markdown",
      "source": [
        "###**3. Qual é o preço médio (coluna *price*) dos cursos oferecidos na plataforma?**"
      ],
      "metadata": {
        "id": "J0bmqwMvKCoF"
      }
    },
    {
      "cell_type": "code",
      "source": [
        "preço_cursos = np.round(geral[['price']].mean(), 2)\n",
        "preço_business = np.round(business[['price']].mean(), 2)\n",
        "preço_web = np.round(web[['price']].mean(), 2)\n",
        "preço_design = np.round(design[['price']].mean(), 2)\n",
        "preço_music = np.round(music[['price']].mean(), 2)\n",
        "\n",
        "preços = ['Business', 'Web', 'Design', 'Music', 'Preço Médio']\n",
        "preços_cursos = [preço_business, preço_web, preço_design, preço_music, preço_cursos]\n",
        "\n",
        "plt.plot(preços, preços_cursos, 'bo', linestyle='solid')\n",
        "plt.show()\n",
        "\n",
        "preço_medio = preço_cursos\n",
        "print(f'Nossos cursos tem preço médio de R${preço_medio}')"
      ],
      "metadata": {
        "colab": {
          "base_uri": "https://localhost:8080/",
          "height": 302
        },
        "id": "FAc7h4ezoJMS",
        "outputId": "a04d1c9e-e21e-443a-ad63-6253e7529963"
      },
      "execution_count": null,
      "outputs": [
        {
          "output_type": "display_data",
          "data": {
            "text/plain": [
              "<Figure size 432x288 with 1 Axes>"
            ],
            "image/png": "[encoded data removed]"
          },
          "metadata": {
            "needs_background": "light"
          }
        },
        {
          "output_type": "stream",
          "name": "stdout",
          "text": [
            "Nossos cursos tem preço médio de R$price    66.12\n",
            "dtype: float64\n"
          ]
        }
      ]
    },
    {
      "cell_type": "markdown",
      "source": [
        "###**4. Quais são os cinco cursos com maior número de inscritos (coluna *num_subscribers*)?**"
      ],
      "metadata": {
        "id": "3-8dnMcIKDe-"
      }
    },
    {
      "cell_type": "code",
      "source": [
        "num_inscritos = geral.sort_values(by='num_subscribers', ascending=False).reset_index()\n",
        "num_inscritos.head()\n",
        "curso1 = num_inscritos['course_title'][0]\n",
        "curso2 = num_inscritos['course_title'][1]\n",
        "curso3 = num_inscritos['course_title'][2]\n",
        "curso4 = num_inscritos['course_title'][3]\n",
        "curso5 = num_inscritos['course_title'][4]\n",
        "maior1 = num_inscritos['num_subscribers'][0]\n",
        "maior2 = num_inscritos['num_subscribers'][1]\n",
        "maior3 = num_inscritos['num_subscribers'][2]\n",
        "maior4 = num_inscritos['num_subscribers'][3]\n",
        "maior5 = num_inscritos['num_subscribers'][4]\n",
        "\n",
        "cursos = [curso5, curso4, curso3, curso2, curso1]\n",
        "inscritos = [maior5, maior4, maior3, maior2, maior1]\n",
        "\n",
        "plt.plot(inscritos, cursos, 'ro', linestyle = '--', color = 'orange')\n",
        "plt.show()"
      ],
      "metadata": {
        "colab": {
          "base_uri": "https://localhost:8080/",
          "height": 265
        },
        "id": "3Gd3CzYSoNiw",
        "outputId": "a63b2a0c-4861-4486-e575-e57a236ff24e"
      },
      "execution_count": null,
      "outputs": [
        {
          "output_type": "display_data",
          "data": {
            "text/plain": [
              "<Figure size 432x288 with 1 Axes>"
            ],
            "image/png": "[encoded data removed]"
          },
          "metadata": {
            "needs_background": "light"
          }
        }
      ]
    },
    {
      "cell_type": "markdown",
      "source": [
        "###**5. Dos cinco cursos mais populares em termos de inscritos, mostre o rate médio, máximo e mínimo de cada um deles.**"
      ],
      "metadata": {
        "id": "nPW433ClKGSu"
      }
    },
    {
      "cell_type": "code",
      "source": [
        "rate_max = num_inscritos['Rating'].max()\n",
        "rate_min = num_inscritos['Rating'].min()\n",
        "rate_medio = np.round(num_inscritos['Rating'].mean(), 3)\n",
        "\n",
        "rate = ['Avaliação (média)', 'Avaliação (min)', 'Avaliação (max)']\n",
        "valores_rate = [rate_medio, rate_min, rate_max]\n",
        "\n",
        "plt.plot(valores_rate, rate, 'ro')\n",
        "plt.show()"
      ],
      "metadata": {
        "colab": {
          "base_uri": "https://localhost:8080/",
          "height": 265
        },
        "id": "Qvna9DhKoQ0H",
        "outputId": "9ca30dff-840d-4cb7-df0b-7a1d8efbfa07"
      },
      "execution_count": null,
      "outputs": [
        {
          "output_type": "display_data",
          "data": {
            "text/plain": [
              "<Figure size 432x288 with 1 Axes>"
            ],
            "image/png": "[encoded data removed]"
          },
          "metadata": {
            "needs_background": "light"
          }
        }
      ]
    },
    {
      "cell_type": "markdown",
      "source": [
        "###**6. Apresente os dez cursos mais visualizados na plataforma.**"
      ],
      "metadata": {
        "id": "yVWgit8wKKpW"
      }
    },
    {
      "cell_type": "code",
      "source": [
        "avaliacoes = geral.sort_values(by='num_reviews', ascending=False).reset_index().head(10)\n",
        "curso1 = avaliacoes['course_title'][0]\n",
        "curso2 = avaliacoes['course_title'][1]\n",
        "curso3 = avaliacoes['course_title'][2]\n",
        "curso4 = avaliacoes['course_title'][3]\n",
        "curso5 = avaliacoes['course_title'][4]\n",
        "curso6 = avaliacoes['course_title'][5]\n",
        "curso7 = avaliacoes['course_title'][6]\n",
        "curso8 = avaliacoes['course_title'][7]\n",
        "curso9 = avaliacoes['course_title'][8]\n",
        "curso10 = avaliacoes['course_title'][9]\n",
        "\n",
        "avaliacao1 = avaliacoes['num_reviews'][0]\n",
        "avaliacao2 = avaliacoes['num_reviews'][1]\n",
        "avaliacao3 = avaliacoes['num_reviews'][2]\n",
        "avaliacao4 = avaliacoes['num_reviews'][3]\n",
        "avaliacao5 = avaliacoes['num_reviews'][4]\n",
        "avaliacao6 = avaliacoes['num_reviews'][5]\n",
        "avaliacao7 = avaliacoes['num_reviews'][6]\n",
        "avaliacao8 = avaliacoes['num_reviews'][7]\n",
        "avaliacao9 = avaliacoes['num_reviews'][8]\n",
        "avaliacao10 = avaliacoes['num_reviews'][9]\n",
        "\n",
        "cursos = [curso1, curso2, curso3, curso4, curso5, curso6, curso7, curso8, curso9, curso10]\n",
        "avaliacao = [avaliacao1, avaliacao2, avaliacao3, avaliacao4, avaliacao5, avaliacao6, avaliacao7, avaliacao8, avaliacao9, avaliacao10]\n",
        "\n",
        "plt.plot(avaliacao, cursos, 'ro', linestyle = '--', color = 'orange')\n",
        "plt.show()"
      ],
      "metadata": {
        "colab": {
          "base_uri": "https://localhost:8080/",
          "height": 265
        },
        "id": "1Wa-WUMroUpJ",
        "outputId": "009bfbb0-bc82-4740-f47e-cbe7db344a0b"
      },
      "execution_count": null,
      "outputs": [
        {
          "output_type": "display_data",
          "data": {
            "text/plain": [
              "<Figure size 432x288 with 1 Axes>"
            ],
            "image/png": "[encoded data removed]"
          },
          "metadata": {
            "needs_background": "light"
          }
        }
      ]
    },
    {
      "cell_type": "markdown",
      "source": [
        "###**7. A partir dos dez cursos mais vistos, mostre:**\n",
        "\n",
        "\n"
      ],
      "metadata": {
        "id": "pWNa0h3IKNdd"
      }
    },
    {
      "cell_type": "markdown",
      "source": [
        "-  1) qual tem o maior número de inscritos; "
      ],
      "metadata": {
        "id": "ADJOoZ1Somxg"
      }
    },
    {
      "cell_type": "code",
      "source": [
        "\n",
        "inscritos = avaliacoes.sort_values(by='num_subscribers', ascending=False).reset_index()\n",
        "curso_maior = [inscritos['course_title'][0]]\n",
        "inscritos = avaliacoes['num_subscribers'].max()\n",
        "print(f'''Nosso curso com mais inscrições,\n",
        "dentre os mais avaliados é {curso_maior},\n",
        "com {inscritos} inscritos''')\n",
        "\n",
        "\n"
      ],
      "metadata": {
        "colab": {
          "base_uri": "https://localhost:8080/"
        },
        "id": "XdiB4XgpoWeB",
        "outputId": "0b8be705-9780-4719-fd92-4303330b0b30"
      },
      "execution_count": null,
      "outputs": [
        {
          "output_type": "stream",
          "name": "stdout",
          "text": [
            "Nosso curso com mais inscrições,\n",
            "dentre os mais avaliados é ['learn html5 programming from scratch'],\n",
            "com 268923.0 inscritos\n"
          ]
        }
      ]
    },
    {
      "cell_type": "markdown",
      "source": [
        "-  2) qual tem o maior **rate** (avaliação do curso)."
      ],
      "metadata": {
        "id": "6F2smMtzoq9v"
      }
    },
    {
      "cell_type": "code",
      "source": [
        "\n",
        "rate = avaliacoes.sort_values(by='Rating', ascending=False).reset_index()\n",
        "rate_maior = [rate['course_title'][0]]\n",
        "rate = avaliacoes['Rating'].max()\n",
        "print(f'Nosso curso com melhor avaliação, dentre os mais avaliados é {rate_maior}, com {rate} de pontos')"
      ],
      "metadata": {
        "colab": {
          "base_uri": "https://localhost:8080/"
        },
        "id": "58-ZG_k5ojEA",
        "outputId": "4f472a88-b19f-4210-cfbf-ebf11df996cd"
      },
      "execution_count": null,
      "outputs": [
        {
          "output_type": "stream",
          "name": "stdout",
          "text": [
            "Nosso curso com melhor avaliação, dentre os mais avaliados é ['pianoforall - incredible new way to learn piano & keyboard'], com 0.96 de pontos\n"
          ]
        }
      ]
    },
    {
      "cell_type": "markdown",
      "source": [
        "###**8. Dos cursos listados na base de dados, qual tem maior duração em horas?**"
      ],
      "metadata": {
        "id": "KNXWTeJYKRpu"
      }
    },
    {
      "cell_type": "code",
      "source": [
        "duracao = geral.sort_values(by='content_duration', ascending=False).reset_index()\n",
        "curso_maior = duracao['course_title'][0]\n",
        "maior_tempo = duracao['content_duration'][0]\n",
        "tempo_medio = duracao['content_duration'].mean()\n",
        "\n",
        "curso = [curso_maior, 'Duração Média']\n",
        "valores = [maior_tempo, tempo_medio]\n",
        "\n",
        "plt.bar(curso, valores, color = 'orange')\n",
        "plt.show()"
      ],
      "metadata": {
        "colab": {
          "base_uri": "https://localhost:8080/",
          "height": 266
        },
        "id": "rkTpxPDUoxPA",
        "outputId": "549acf2d-4ea1-44cc-89ff-379c277a7f89"
      },
      "execution_count": null,
      "outputs": [
        {
          "output_type": "display_data",
          "data": {
            "text/plain": [
              "<Figure size 432x288 with 1 Axes>"
            ],
            "image/png": "[encoded data removed]"
          },
          "metadata": {
            "needs_background": "light"
          }
        }
      ]
    },
    {
      "cell_type": "markdown",
      "source": [
        "###**9. Dos cursos listados na base de dados, qual tem o maior número de aulas (*lectures*)?**"
      ],
      "metadata": {
        "id": "vp7zwci1KR2o"
      }
    },
    {
      "cell_type": "code",
      "source": [
        "media_num_aulas = geral['num_lectures'].mean()\n",
        "maior_num_aulas = geral['num_lectures'].max()\n",
        "curso_maior_num_aulas = geral[geral['num_lectures'] == maior_num_aulas]\n",
        "media_num_aulas\n",
        "curso_maior_num_aulas\n",
        "\n",
        "aulas = ['Média de número de aulas', 'Back to School Web Development and Programming']\n",
        "qnt_aulas = [media_num_aulas, maior_num_aulas]\n",
        "\n",
        "plt.plot(aulas, qnt_aulas)\n",
        "plt.show()\n",
        "\n",
        "print(f'''Nosso curso com maior número de aulas é o\n",
        "\"Back to School Web Development and Programming\"\n",
        "com {maior_num_aulas} aulas.''')"
      ],
      "metadata": {
        "colab": {
          "base_uri": "https://localhost:8080/",
          "height": 320
        },
        "id": "UPwccm5lo004",
        "outputId": "a53ba17d-1a74-4f34-bfb2-6d5045d35d84"
      },
      "execution_count": null,
      "outputs": [
        {
          "output_type": "display_data",
          "data": {
            "text/plain": [
              "<Figure size 432x288 with 1 Axes>"
            ],
            "image/png": "[encoded data removed]"
          },
          "metadata": {
            "needs_background": "light"
          }
        },
        {
          "output_type": "stream",
          "name": "stdout",
          "text": [
            "Nosso curso com maior número de aulas é o\n",
            "\"Back to School Web Development and Programming\"\n",
            "com 779.0 aulas.\n"
          ]
        }
      ]
    },
    {
      "cell_type": "markdown",
      "source": [
        "###**10. Apresente o número (contagem) de cursos agrupados por nível (coluna *level*)**"
      ],
      "metadata": {
        "id": "vGiY1s2pKSB2"
      }
    },
    {
      "cell_type": "code",
      "source": [
        "agrupamento = geral.groupby(by='level').count().reset_index()\n",
        "agrupamento\n",
        "\n",
        "niveis = ['Todos os Níveis', 'Iniciante', 'Intermediário', 'Avançado']\n",
        "valores = [1925, 1271, 422, 58]\n",
        "\n",
        "plt.plot(niveis, valores)\n",
        "plt.show()\n",
        "\n",
        "print(f'''Possuímos 4 níveis de cursos:\n",
        "- Iniciante, com 1271 cursos;\n",
        "- Intermediário, com 422 cursos;\n",
        "- Avançado, com 58 cursos;\n",
        "- Para todos, com 1925 cursos;\n",
        "Totalizando 3681 cursos''')"
      ],
      "metadata": {
        "colab": {
          "base_uri": "https://localhost:8080/",
          "height": 376
        },
        "id": "NJLNqcdZo48q",
        "outputId": "db826650-f3ea-49a8-9d68-bb3cd05f7c0a"
      },
      "execution_count": null,
      "outputs": [
        {
          "output_type": "display_data",
          "data": {
            "text/plain": [
              "<Figure size 432x288 with 1 Axes>"
            ],
            "image/png": "[encoded data removed]"
          },
          "metadata": {
            "needs_background": "light"
          }
        },
        {
          "output_type": "stream",
          "name": "stdout",
          "text": [
            "Possuímos 4 níveis de cursos:\n",
            "- Iniciante, com 1271 cursos;\n",
            "- Intermediário, com 422 cursos;\n",
            "- Avançado, com 58 cursos;\n",
            "- Para todos, com 1925 cursos;\n",
            "Totalizando 3681 cursos\n"
          ]
        }
      ]
    },
    {
      "cell_type": "markdown",
      "source": [
        "###**11. Quais são os cursos mais recentes contidos na base de dados?**"
      ],
      "metadata": {
        "id": "AMpCVifLKSeu"
      }
    },
    {
      "cell_type": "code",
      "source": [
        "mais_recentes = geral.sort_values(by='published_timestamp', ascending=False).reset_index()\n",
        "mais_recentes.head()"
      ],
      "metadata": {
        "colab": {
          "base_uri": "https://localhost:8080/",
          "height": 389
        },
        "id": "Wl_Z_hsNo8BB",
        "outputId": "d1504c4b-e671-4c4b-f6c6-eec158359888"
      },
      "execution_count": null,
      "outputs": [
        {
          "output_type": "execute_result",
          "data": {
            "text/plain": [
              "   index  course_id                                       course_title  \\\n",
              "0   1183  1282064.0  cryptocurrency (btc & eth) investment & tradin...   \n",
              "1   1164  1187084.0  forex how traders beat the markest with little...   \n",
              "2   1027  1268616.0  condor broken wing butterfly options trading c...   \n",
              "3    669  1265814.0  abrsm grade iii piano class - handel sonatina ...   \n",
              "4   1201  1277924.0                            angular 4 front to back   \n",
              "\n",
              "                                                 url  price  num_subscribers  \\\n",
              "0  https://www.udemy.com/cryptocurrency-btc-eth-i...   20.0              0.0   \n",
              "1  https://www.udemy.com/forex-how-traders-beat-t...  100.0              0.0   \n",
              "2  https://www.udemy.com/condor-broken-wing-butte...    0.0             16.0   \n",
              "3  https://www.udemy.com/abrsm-grade-iii-piano-cl...   20.0              0.0   \n",
              "4     https://www.udemy.com/angular-4-front-to-back/   40.0             44.0   \n",
              "\n",
              "   num_reviews  num_lectures           level  Rating  content_duration  \\\n",
              "0          0.0           7.0      All Levels    0.95          2.500000   \n",
              "1          0.0          16.0      All Levels    0.15          1.000000   \n",
              "2          0.0          15.0      All Levels    0.20          1.500000   \n",
              "3          0.0           5.0  Beginner Level    0.34          0.516667   \n",
              "4          0.0          68.0      All Levels    0.15          8.500000   \n",
              "\n",
              "    published_timestamp                   subject  \n",
              "0  2017-07-06T21:46:30Z          Business Finance  \n",
              "1  2017-07-06T21:16:13Z          Business Finance  \n",
              "2  2017-07-06T19:47:16Z          Business Finance  \n",
              "3  2017-07-06T16:12:34Z       Musical Instruments  \n",
              "4  2017-07-06T15:04:55Z  Subject: Web Development  "
            ],
            "text/html": [
              "\n",
              "  <div id=\"df-d9fd2d24-59ce-4ddc-83ba-d07dd9e281c3\">\n",
              "    <div class=\"colab-df-container\">\n",
              "      <div>\n",
              "<style scoped>\n",
              "    .dataframe tbody tr th:only-of-type {\n",
              "        vertical-align: middle;\n",
              "    }\n",
              "\n",
              "    .dataframe tbody tr th {\n",
              "        vertical-align: top;\n",
              "    }\n",
              "\n",
              "    .dataframe thead th {\n",
              "        text-align: right;\n",
              "    }\n",
              "</style>\n",
              "<table border=\"1\" class=\"dataframe\">\n",
              "  <thead>\n",
              "    <tr style=\"text-align: right;\">\n",
              "      <th></th>\n",
              "      <th>index</th>\n",
              "      <th>course_id</th>\n",
              "      <th>course_title</th>\n",
              "      <th>url</th>\n",
              "      <th>price</th>\n",
              "      <th>num_subscribers</th>\n",
              "      <th>num_reviews</th>\n",
              "      <th>num_lectures</th>\n",
              "      <th>level</th>\n",
              "      <th>Rating</th>\n",
              "      <th>content_duration</th>\n",
              "      <th>published_timestamp</th>\n",
              "      <th>subject</th>\n",
              "    </tr>\n",
              "  </thead>\n",
              "  <tbody>\n",
              "    <tr>\n",
              "      <th>0</th>\n",
              "      <td>1183</td>\n",
              "      <td>1282064.0</td>\n",
              "      <td>cryptocurrency (btc &amp; eth) investment &amp; tradin...</td>\n",
              "      <td>https://www.udemy.com/cryptocurrency-btc-eth-i...</td>\n",
              "      <td>20.0</td>\n",
              "      <td>0.0</td>\n",
              "      <td>0.0</td>\n",
              "      <td>7.0</td>\n",
              "      <td>All Levels</td>\n",
              "      <td>0.95</td>\n",
              "      <td>2.500000</td>\n",
              "      <td>2017-07-06T21:46:30Z</td>\n",
              "      <td>Business Finance</td>\n",
              "    </tr>\n",
              "    <tr>\n",
              "      <th>1</th>\n",
              "      <td>1164</td>\n",
              "      <td>1187084.0</td>\n",
              "      <td>forex how traders beat the markest with little...</td>\n",
              "      <td>https://www.udemy.com/forex-how-traders-beat-t...</td>\n",
              "      <td>100.0</td>\n",
              "      <td>0.0</td>\n",
              "      <td>0.0</td>\n",
              "      <td>16.0</td>\n",
              "      <td>All Levels</td>\n",
              "      <td>0.15</td>\n",
              "      <td>1.000000</td>\n",
              "      <td>2017-07-06T21:16:13Z</td>\n",
              "      <td>Business Finance</td>\n",
              "    </tr>\n",
              "    <tr>\n",
              "      <th>2</th>\n",
              "      <td>1027</td>\n",
              "      <td>1268616.0</td>\n",
              "      <td>condor broken wing butterfly options trading c...</td>\n",
              "      <td>https://www.udemy.com/condor-broken-wing-butte...</td>\n",
              "      <td>0.0</td>\n",
              "      <td>16.0</td>\n",
              "      <td>0.0</td>\n",
              "      <td>15.0</td>\n",
              "      <td>All Levels</td>\n",
              "      <td>0.20</td>\n",
              "      <td>1.500000</td>\n",
              "      <td>2017-07-06T19:47:16Z</td>\n",
              "      <td>Business Finance</td>\n",
              "    </tr>\n",
              "    <tr>\n",
              "      <th>3</th>\n",
              "      <td>669</td>\n",
              "      <td>1265814.0</td>\n",
              "      <td>abrsm grade iii piano class - handel sonatina ...</td>\n",
              "      <td>https://www.udemy.com/abrsm-grade-iii-piano-cl...</td>\n",
              "      <td>20.0</td>\n",
              "      <td>0.0</td>\n",
              "      <td>0.0</td>\n",
              "      <td>5.0</td>\n",
              "      <td>Beginner Level</td>\n",
              "      <td>0.34</td>\n",
              "      <td>0.516667</td>\n",
              "      <td>2017-07-06T16:12:34Z</td>\n",
              "      <td>Musical Instruments</td>\n",
              "    </tr>\n",
              "    <tr>\n",
              "      <th>4</th>\n",
              "      <td>1201</td>\n",
              "      <td>1277924.0</td>\n",
              "      <td>angular 4 front to back</td>\n",
              "      <td>https://www.udemy.com/angular-4-front-to-back/</td>\n",
              "      <td>40.0</td>\n",
              "      <td>44.0</td>\n",
              "      <td>0.0</td>\n",
              "      <td>68.0</td>\n",
              "      <td>All Levels</td>\n",
              "      <td>0.15</td>\n",
              "      <td>8.500000</td>\n",
              "      <td>2017-07-06T15:04:55Z</td>\n",
              "      <td>Subject: Web Development</td>\n",
              "    </tr>\n",
              "  </tbody>\n",
              "</table>\n",
              "</div>\n",
              "      <button class=\"colab-df-convert\" onclick=\"convertToInteractive('df-d9fd2d24-59ce-4ddc-83ba-d07dd9e281c3')\"\n",
              "              title=\"Convert this dataframe to an interactive table.\"\n",
              "              style=\"display:none;\">\n",
              "        \n",
              "  <svg xmlns=\"http://www.w3.org/2000/svg\" height=\"24px\"viewBox=\"0 0 24 24\"\n",
              "       width=\"24px\">\n",
              "    <path d=\"M0 0h24v24H0V0z\" fill=\"none\"/>\n",
              "    <path d=\"M18.56 5.44l.94 2.06.94-2.06 2.06-.94-2.06-.94-.94-2.06-.94 2.06-2.06.94zm-11 1L8.5 8.5l.94-2.06 2.06-.94-2.06-.94L8.5 2.5l-.94 2.06-2.06.94zm10 10l.94 2.06.94-2.06 2.06-.94-2.06-.94-.94-2.06-.94 2.06-2.06.94z\"/><path d=\"M17.41 7.96l-1.37-1.37c-.4-.4-.92-.59-1.43-.59-.52 0-1.04.2-1.43.59L10.3 9.45l-7.72 7.72c-.78.78-.78 2.05 0 2.83L4 21.41c.39.39.9.59 1.41.59.51 0 1.02-.2 1.41-.59l7.78-7.78 2.81-2.81c.8-.78.8-2.07 0-2.86zM5.41 20L4 18.59l7.72-7.72 1.47 1.35L5.41 20z\"/>\n",
              "  </svg>\n",
              "      </button>\n",
              "      \n",
              "  <style>\n",
              "    .colab-df-container {\n",
              "      display:flex;\n",
              "      flex-wrap:wrap;\n",
              "      gap: 12px;\n",
              "    }\n",
              "\n",
              "    .colab-df-convert {\n",
              "      background-color: #E8F0FE;\n",
              "      border: none;\n",
              "      border-radius: 50%;\n",
              "      cursor: pointer;\n",
              "      display: none;\n",
              "      fill: #1967D2;\n",
              "      height: 32px;\n",
              "      padding: 0 0 0 0;\n",
              "      width: 32px;\n",
              "    }\n",
              "\n",
              "    .colab-df-convert:hover {\n",
              "      background-color: #E2EBFA;\n",
              "      box-shadow: 0px 1px 2px rgba(60, 64, 67, 0.3), 0px 1px 3px 1px rgba(60, 64, 67, 0.15);\n",
              "      fill: #174EA6;\n",
              "    }\n",
              "\n",
              "    [theme=dark] .colab-df-convert {\n",
              "      background-color: #3B4455;\n",
              "      fill: #D2E3FC;\n",
              "    }\n",
              "\n",
              "    [theme=dark] .colab-df-convert:hover {\n",
              "      background-color: #434B5C;\n",
              "      box-shadow: 0px 1px 3px 1px rgba(0, 0, 0, 0.15);\n",
              "      filter: drop-shadow(0px 1px 2px rgba(0, 0, 0, 0.3));\n",
              "      fill: #FFFFFF;\n",
              "    }\n",
              "  </style>\n",
              "\n",
              "      <script>\n",
              "        const buttonEl =\n",
              "          document.querySelector('#df-d9fd2d24-59ce-4ddc-83ba-d07dd9e281c3 button.colab-df-convert');\n",
              "        buttonEl.style.display =\n",
              "          google.colab.kernel.accessAllowed ? 'block' : 'none';\n",
              "\n",
              "        async function convertToInteractive(key) {\n",
              "          const element = document.querySelector('#df-d9fd2d24-59ce-4ddc-83ba-d07dd9e281c3');\n",
              "          const dataTable =\n",
              "            await google.colab.kernel.invokeFunction('convertToInteractive',\n",
              "                                                     [key], {});\n",
              "          if (!dataTable) return;\n",
              "\n",
              "          const docLinkHtml = 'Like what you see? Visit the ' +\n",
              "            '<a target=\"_blank\" href=https://colab.research.google.com/notebooks/data_table.ipynb>data table notebook</a>'\n",
              "            + ' to learn more about interactive tables.';\n",
              "          element.innerHTML = '';\n",
              "          dataTable['output_type'] = 'display_data';\n",
              "          await google.colab.output.renderOutput(dataTable, element);\n",
              "          const docLink = document.createElement('div');\n",
              "          docLink.innerHTML = docLinkHtml;\n",
              "          element.appendChild(docLink);\n",
              "        }\n",
              "      </script>\n",
              "    </div>\n",
              "  </div>\n",
              "  "
            ]
          },
          "metadata": {},
          "execution_count": 23
        }
      ]
    },
    {
      "cell_type": "markdown",
      "source": [
        "###**12. Apresente o número (contagem) de cursos agrupados por nível (coluna *level*) e por assunto (coluna *subject*).**"
      ],
      "metadata": {
        "id": "oNQ-CEshKhEP"
      }
    },
    {
      "cell_type": "code",
      "source": [
        "agrupar = geral.groupby(by=['level', 'subject']).count().reset_index()\n",
        "agrupar"
      ],
      "metadata": {
        "colab": {
          "base_uri": "https://localhost:8080/",
          "height": 551
        },
        "id": "NwLWDpANo_NB",
        "outputId": "12699a42-c2cc-477a-dd31-986b4ce90f8e"
      },
      "execution_count": null,
      "outputs": [
        {
          "output_type": "execute_result",
          "data": {
            "text/plain": [
              "                 level                   subject  course_id  course_title  \\\n",
              "0           All Levels          Business Finance        633           633   \n",
              "1           All Levels            Graphic Design        335           335   \n",
              "2           All Levels       Musical Instruments        324           324   \n",
              "3           All Levels  Subject: Web Development        633           633   \n",
              "4       Beginner Level          Business Finance        399           399   \n",
              "5       Beginner Level            Graphic Design        184           184   \n",
              "6       Beginner Level       Musical Instruments        266           266   \n",
              "7       Beginner Level  Subject: Web Development        422           422   \n",
              "8         Expert Level          Business Finance         25            25   \n",
              "9         Expert Level            Graphic Design          7             7   \n",
              "10        Expert Level       Musical Instruments         12            12   \n",
              "11        Expert Level  Subject: Web Development         14            14   \n",
              "12  Intermediate Level          Business Finance        134           134   \n",
              "13  Intermediate Level            Graphic Design         76            76   \n",
              "14  Intermediate Level       Musical Instruments         78            78   \n",
              "15  Intermediate Level  Subject: Web Development        134           134   \n",
              "\n",
              "    url  price  num_subscribers  num_reviews  num_lectures  Rating  \\\n",
              "0   633    633              633          633           633     633   \n",
              "1   335    335              335          335           335     335   \n",
              "2   324    324              324          324           324     324   \n",
              "3   633    633              633          633           633     633   \n",
              "4   399    399              399          399           399     399   \n",
              "5   184    184              184          184           184     184   \n",
              "6   266    266              266          266           266     266   \n",
              "7   422    422              422          422           422     422   \n",
              "8    25     25               25           25            25      25   \n",
              "9     7      7                7            7             7       7   \n",
              "10   12     12               12           12            12      12   \n",
              "11   14     14               14           14            14      14   \n",
              "12  134    134              134          134           134     134   \n",
              "13   76     76               76           76            76      76   \n",
              "14   78     78               78           78            78      78   \n",
              "15  134    134              134          134           134     134   \n",
              "\n",
              "    content_duration  published_timestamp  \n",
              "0                633                  633  \n",
              "1                335                  335  \n",
              "2                324                  324  \n",
              "3                633                  633  \n",
              "4                399                  399  \n",
              "5                184                  184  \n",
              "6                266                  266  \n",
              "7                422                  422  \n",
              "8                 25                   25  \n",
              "9                  7                    7  \n",
              "10                12                   12  \n",
              "11                14                   14  \n",
              "12               134                  134  \n",
              "13                76                   76  \n",
              "14                78                   78  \n",
              "15               134                  134  "
            ],
            "text/html": [
              "\n",
              "  <div id=\"df-4d3953e9-a6ef-433b-bc1e-c3ff4f977373\">\n",
              "    <div class=\"colab-df-container\">\n",
              "      <div>\n",
              "<style scoped>\n",
              "    .dataframe tbody tr th:only-of-type {\n",
              "        vertical-align: middle;\n",
              "    }\n",
              "\n",
              "    .dataframe tbody tr th {\n",
              "        vertical-align: top;\n",
              "    }\n",
              "\n",
              "    .dataframe thead th {\n",
              "        text-align: right;\n",
              "    }\n",
              "</style>\n",
              "<table border=\"1\" class=\"dataframe\">\n",
              "  <thead>\n",
              "    <tr style=\"text-align: right;\">\n",
              "      <th></th>\n",
              "      <th>level</th>\n",
              "      <th>subject</th>\n",
              "      <th>course_id</th>\n",
              "      <th>course_title</th>\n",
              "      <th>url</th>\n",
              "      <th>price</th>\n",
              "      <th>num_subscribers</th>\n",
              "      <th>num_reviews</th>\n",
              "      <th>num_lectures</th>\n",
              "      <th>Rating</th>\n",
              "      <th>content_duration</th>\n",
              "      <th>published_timestamp</th>\n",
              "    </tr>\n",
              "  </thead>\n",
              "  <tbody>\n",
              "    <tr>\n",
              "      <th>0</th>\n",
              "      <td>All Levels</td>\n",
              "      <td>Business Finance</td>\n",
              "      <td>633</td>\n",
              "      <td>633</td>\n",
              "      <td>633</td>\n",
              "      <td>633</td>\n",
              "      <td>633</td>\n",
              "      <td>633</td>\n",
              "      <td>633</td>\n",
              "      <td>633</td>\n",
              "      <td>633</td>\n",
              "      <td>633</td>\n",
              "    </tr>\n",
              "    <tr>\n",
              "      <th>1</th>\n",
              "      <td>All Levels</td>\n",
              "      <td>Graphic Design</td>\n",
              "      <td>335</td>\n",
              "      <td>335</td>\n",
              "      <td>335</td>\n",
              "      <td>335</td>\n",
              "      <td>335</td>\n",
              "      <td>335</td>\n",
              "      <td>335</td>\n",
              "      <td>335</td>\n",
              "      <td>335</td>\n",
              "      <td>335</td>\n",
              "    </tr>\n",
              "    <tr>\n",
              "      <th>2</th>\n",
              "      <td>All Levels</td>\n",
              "      <td>Musical Instruments</td>\n",
              "      <td>324</td>\n",
              "      <td>324</td>\n",
              "      <td>324</td>\n",
              "      <td>324</td>\n",
              "      <td>324</td>\n",
              "      <td>324</td>\n",
              "      <td>324</td>\n",
              "      <td>324</td>\n",
              "      <td>324</td>\n",
              "      <td>324</td>\n",
              "    </tr>\n",
              "    <tr>\n",
              "      <th>3</th>\n",
              "      <td>All Levels</td>\n",
              "      <td>Subject: Web Development</td>\n",
              "      <td>633</td>\n",
              "      <td>633</td>\n",
              "      <td>633</td>\n",
              "      <td>633</td>\n",
              "      <td>633</td>\n",
              "      <td>633</td>\n",
              "      <td>633</td>\n",
              "      <td>633</td>\n",
              "      <td>633</td>\n",
              "      <td>633</td>\n",
              "    </tr>\n",
              "    <tr>\n",
              "      <th>4</th>\n",
              "      <td>Beginner Level</td>\n",
              "      <td>Business Finance</td>\n",
              "      <td>399</td>\n",
              "      <td>399</td>\n",
              "      <td>399</td>\n",
              "      <td>399</td>\n",
              "      <td>399</td>\n",
              "      <td>399</td>\n",
              "      <td>399</td>\n",
              "      <td>399</td>\n",
              "      <td>399</td>\n",
              "      <td>399</td>\n",
              "    </tr>\n",
              "    <tr>\n",
              "      <th>5</th>\n",
              "      <td>Beginner Level</td>\n",
              "      <td>Graphic Design</td>\n",
              "      <td>184</td>\n",
              "      <td>184</td>\n",
              "      <td>184</td>\n",
              "      <td>184</td>\n",
              "      <td>184</td>\n",
              "      <td>184</td>\n",
              "      <td>184</td>\n",
              "      <td>184</td>\n",
              "      <td>184</td>\n",
              "      <td>184</td>\n",
              "    </tr>\n",
              "    <tr>\n",
              "      <th>6</th>\n",
              "      <td>Beginner Level</td>\n",
              "      <td>Musical Instruments</td>\n",
              "      <td>266</td>\n",
              "      <td>266</td>\n",
              "      <td>266</td>\n",
              "      <td>266</td>\n",
              "      <td>266</td>\n",
              "      <td>266</td>\n",
              "      <td>266</td>\n",
              "      <td>266</td>\n",
              "      <td>266</td>\n",
              "      <td>266</td>\n",
              "    </tr>\n",
              "    <tr>\n",
              "      <th>7</th>\n",
              "      <td>Beginner Level</td>\n",
              "      <td>Subject: Web Development</td>\n",
              "      <td>422</td>\n",
              "      <td>422</td>\n",
              "      <td>422</td>\n",
              "      <td>422</td>\n",
              "      <td>422</td>\n",
              "      <td>422</td>\n",
              "      <td>422</td>\n",
              "      <td>422</td>\n",
              "      <td>422</td>\n",
              "      <td>422</td>\n",
              "    </tr>\n",
              "    <tr>\n",
              "      <th>8</th>\n",
              "      <td>Expert Level</td>\n",
              "      <td>Business Finance</td>\n",
              "      <td>25</td>\n",
              "      <td>25</td>\n",
              "      <td>25</td>\n",
              "      <td>25</td>\n",
              "      <td>25</td>\n",
              "      <td>25</td>\n",
              "      <td>25</td>\n",
              "      <td>25</td>\n",
              "      <td>25</td>\n",
              "      <td>25</td>\n",
              "    </tr>\n",
              "    <tr>\n",
              "      <th>9</th>\n",
              "      <td>Expert Level</td>\n",
              "      <td>Graphic Design</td>\n",
              "      <td>7</td>\n",
              "      <td>7</td>\n",
              "      <td>7</td>\n",
              "      <td>7</td>\n",
              "      <td>7</td>\n",
              "      <td>7</td>\n",
              "      <td>7</td>\n",
              "      <td>7</td>\n",
              "      <td>7</td>\n",
              "      <td>7</td>\n",
              "    </tr>\n",
              "    <tr>\n",
              "      <th>10</th>\n",
              "      <td>Expert Level</td>\n",
              "      <td>Musical Instruments</td>\n",
              "      <td>12</td>\n",
              "      <td>12</td>\n",
              "      <td>12</td>\n",
              "      <td>12</td>\n",
              "      <td>12</td>\n",
              "      <td>12</td>\n",
              "      <td>12</td>\n",
              "      <td>12</td>\n",
              "      <td>12</td>\n",
              "      <td>12</td>\n",
              "    </tr>\n",
              "    <tr>\n",
              "      <th>11</th>\n",
              "      <td>Expert Level</td>\n",
              "      <td>Subject: Web Development</td>\n",
              "      <td>14</td>\n",
              "      <td>14</td>\n",
              "      <td>14</td>\n",
              "      <td>14</td>\n",
              "      <td>14</td>\n",
              "      <td>14</td>\n",
              "      <td>14</td>\n",
              "      <td>14</td>\n",
              "      <td>14</td>\n",
              "      <td>14</td>\n",
              "    </tr>\n",
              "    <tr>\n",
              "      <th>12</th>\n",
              "      <td>Intermediate Level</td>\n",
              "      <td>Business Finance</td>\n",
              "      <td>134</td>\n",
              "      <td>134</td>\n",
              "      <td>134</td>\n",
              "      <td>134</td>\n",
              "      <td>134</td>\n",
              "      <td>134</td>\n",
              "      <td>134</td>\n",
              "      <td>134</td>\n",
              "      <td>134</td>\n",
              "      <td>134</td>\n",
              "    </tr>\n",
              "    <tr>\n",
              "      <th>13</th>\n",
              "      <td>Intermediate Level</td>\n",
              "      <td>Graphic Design</td>\n",
              "      <td>76</td>\n",
              "      <td>76</td>\n",
              "      <td>76</td>\n",
              "      <td>76</td>\n",
              "      <td>76</td>\n",
              "      <td>76</td>\n",
              "      <td>76</td>\n",
              "      <td>76</td>\n",
              "      <td>76</td>\n",
              "      <td>76</td>\n",
              "    </tr>\n",
              "    <tr>\n",
              "      <th>14</th>\n",
              "      <td>Intermediate Level</td>\n",
              "      <td>Musical Instruments</td>\n",
              "      <td>78</td>\n",
              "      <td>78</td>\n",
              "      <td>78</td>\n",
              "      <td>78</td>\n",
              "      <td>78</td>\n",
              "      <td>78</td>\n",
              "      <td>78</td>\n",
              "      <td>78</td>\n",
              "      <td>78</td>\n",
              "      <td>78</td>\n",
              "    </tr>\n",
              "    <tr>\n",
              "      <th>15</th>\n",
              "      <td>Intermediate Level</td>\n",
              "      <td>Subject: Web Development</td>\n",
              "      <td>134</td>\n",
              "      <td>134</td>\n",
              "      <td>134</td>\n",
              "      <td>134</td>\n",
              "      <td>134</td>\n",
              "      <td>134</td>\n",
              "      <td>134</td>\n",
              "      <td>134</td>\n",
              "      <td>134</td>\n",
              "      <td>134</td>\n",
              "    </tr>\n",
              "  </tbody>\n",
              "</table>\n",
              "</div>\n",
              "      <button class=\"colab-df-convert\" onclick=\"convertToInteractive('df-4d3953e9-a6ef-433b-bc1e-c3ff4f977373')\"\n",
              "              title=\"Convert this dataframe to an interactive table.\"\n",
              "              style=\"display:none;\">\n",
              "        \n",
              "  <svg xmlns=\"http://www.w3.org/2000/svg\" height=\"24px\"viewBox=\"0 0 24 24\"\n",
              "       width=\"24px\">\n",
              "    <path d=\"M0 0h24v24H0V0z\" fill=\"none\"/>\n",
              "    <path d=\"M18.56 5.44l.94 2.06.94-2.06 2.06-.94-2.06-.94-.94-2.06-.94 2.06-2.06.94zm-11 1L8.5 8.5l.94-2.06 2.06-.94-2.06-.94L8.5 2.5l-.94 2.06-2.06.94zm10 10l.94 2.06.94-2.06 2.06-.94-2.06-.94-.94-2.06-.94 2.06-2.06.94z\"/><path d=\"M17.41 7.96l-1.37-1.37c-.4-.4-.92-.59-1.43-.59-.52 0-1.04.2-1.43.59L10.3 9.45l-7.72 7.72c-.78.78-.78 2.05 0 2.83L4 21.41c.39.39.9.59 1.41.59.51 0 1.02-.2 1.41-.59l7.78-7.78 2.81-2.81c.8-.78.8-2.07 0-2.86zM5.41 20L4 18.59l7.72-7.72 1.47 1.35L5.41 20z\"/>\n",
              "  </svg>\n",
              "      </button>\n",
              "      \n",
              "  <style>\n",
              "    .colab-df-container {\n",
              "      display:flex;\n",
              "      flex-wrap:wrap;\n",
              "      gap: 12px;\n",
              "    }\n",
              "\n",
              "    .colab-df-convert {\n",
              "      background-color: #E8F0FE;\n",
              "      border: none;\n",
              "      border-radius: 50%;\n",
              "      cursor: pointer;\n",
              "      display: none;\n",
              "      fill: #1967D2;\n",
              "      height: 32px;\n",
              "      padding: 0 0 0 0;\n",
              "      width: 32px;\n",
              "    }\n",
              "\n",
              "    .colab-df-convert:hover {\n",
              "      background-color: #E2EBFA;\n",
              "      box-shadow: 0px 1px 2px rgba(60, 64, 67, 0.3), 0px 1px 3px 1px rgba(60, 64, 67, 0.15);\n",
              "      fill: #174EA6;\n",
              "    }\n",
              "\n",
              "    [theme=dark] .colab-df-convert {\n",
              "      background-color: #3B4455;\n",
              "      fill: #D2E3FC;\n",
              "    }\n",
              "\n",
              "    [theme=dark] .colab-df-convert:hover {\n",
              "      background-color: #434B5C;\n",
              "      box-shadow: 0px 1px 3px 1px rgba(0, 0, 0, 0.15);\n",
              "      filter: drop-shadow(0px 1px 2px rgba(0, 0, 0, 0.3));\n",
              "      fill: #FFFFFF;\n",
              "    }\n",
              "  </style>\n",
              "\n",
              "      <script>\n",
              "        const buttonEl =\n",
              "          document.querySelector('#df-4d3953e9-a6ef-433b-bc1e-c3ff4f977373 button.colab-df-convert');\n",
              "        buttonEl.style.display =\n",
              "          google.colab.kernel.accessAllowed ? 'block' : 'none';\n",
              "\n",
              "        async function convertToInteractive(key) {\n",
              "          const element = document.querySelector('#df-4d3953e9-a6ef-433b-bc1e-c3ff4f977373');\n",
              "          const dataTable =\n",
              "            await google.colab.kernel.invokeFunction('convertToInteractive',\n",
              "                                                     [key], {});\n",
              "          if (!dataTable) return;\n",
              "\n",
              "          const docLinkHtml = 'Like what you see? Visit the ' +\n",
              "            '<a target=\"_blank\" href=https://colab.research.google.com/notebooks/data_table.ipynb>data table notebook</a>'\n",
              "            + ' to learn more about interactive tables.';\n",
              "          element.innerHTML = '';\n",
              "          dataTable['output_type'] = 'display_data';\n",
              "          await google.colab.output.renderOutput(dataTable, element);\n",
              "          const docLink = document.createElement('div');\n",
              "          docLink.innerHTML = docLinkHtml;\n",
              "          element.appendChild(docLink);\n",
              "        }\n",
              "      </script>\n",
              "    </div>\n",
              "  </div>\n",
              "  "
            ]
          },
          "metadata": {},
          "execution_count": 24
        }
      ]
    },
    {
      "cell_type": "markdown",
      "source": [
        "###**13. Disponibilize suas análises em um repositório do Github e compartilhe o link abaixo.**"
      ],
      "metadata": {
        "id": "MpDiZqCfKkUg"
      }
    },
    {
      "cell_type": "markdown",
      "source": [
        "https://github.com/ElizangelaStudent/Projeto-T-cnicas-de-Programa-o-I-PY-.git"
      ],
      "metadata": {
        "id": "22NwIe3BxxS-"
      }
    },
    {
      "cell_type": "markdown",
      "source": [
        "###**14. Crie uma conta no <a href=\"https://www.kaggle.com/datasets/thedevastator/udemy-courses-revenue-generation-and-course-anal\">Kaggle</a> e crie um Notebook com as análises feitas neste projeto. A ideia aqui, é que você comece a criar um portfólio de análise de dados na plataforma :)**"
      ],
      "metadata": {
        "id": "ysTs-6YAKoXf"
      }
    },
    {
      "cell_type": "markdown",
      "source": [
        "\n",
        "\n",
        "https://www.kaggle.com/elizangelascosta/projeto-t-cnicas-de-programa-o-i-py"
      ],
      "metadata": {
        "id": "QjBE7Y5SROMk"
      }
    }
  ]
}